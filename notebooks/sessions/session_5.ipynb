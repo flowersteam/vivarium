{
 "cells": [
  {
   "cell_type": "markdown",
   "metadata": {},
   "source": [
    "### COMMENT : General idea: do we include questions in the notebook ? Or only use this as an example to create more complex projects ? Do we want to precise this to students ? "
   ]
  },
  {
   "cell_type": "markdown",
   "metadata": {},
   "source": [
    "# Session 5 (Bonus): Implementing a simple Eco-Evolutionary simulation"
   ]
  },
  {
   "cell_type": "markdown",
   "metadata": {},
   "source": [
    "In all precedent sessions, we saw how to control simulation from notebook. This was done either by directly controlling the agents, by modifying their behaviors, routines, manipulating their sensors or their diets. We also saw how to controll the environment to make resources spawn, start the eating mechanism of entities etc.\n",
    "\n",
    "Now we are going to see how we can combine all these features to implement a simple Eco-Evolutionary simulation ! \n",
    "\n",
    "An eco-evolutionary simulation is a virtual environment where agents interact with each other and their surroundings. Over time, these agents adapt and evolve based on environmental challenges and competition for resources. The simulation models both ecological processes (like food gathering or predator-prey relationships) and evolutionary changes (like traits being passed down to future generations)."
   ]
  },
  {
   "cell_type": "markdown",
   "metadata": {},
   "source": [
    "We will start by importing the necessary modules and functions as usual. In this session, we will also use the `numpy` library, which is a powerful library for numerical computing in Python. It provides support for arrays and matrices, along with a collection of mathematical functions to operate on these arrays. You can check the documentation [here](https://numpy.org/doc/stable/). \n",
    "\n",
    "We will also use the `matplotlib` library to change the colors of the entities thanks to the `colors` module. You can check the documentation [here](https://matplotlib.org/stable/contents.html). "
   ]
  },
  {
   "cell_type": "markdown",
   "metadata": {},
   "source": [
    "### COMMENT : do we need to detail import numpy as np ? and import matplotlib.colors as colors ?"
   ]
  },
  {
   "cell_type": "code",
   "execution_count": 1,
   "metadata": {},
   "outputs": [
    {
     "name": "stderr",
     "output_type": "stream",
     "text": [
      "An NVIDIA GPU may be present on this machine, but a CUDA-enabled jaxlib is not installed. Falling back to cpu.\n"
     ]
    }
   ],
   "source": [
    "import numpy as np\n",
    "import matplotlib.colors as colors\n",
    "\n",
    "from vivarium.utils.handle_server_interface import start_server_and_interface, stop_server_and_interface\n",
    "from vivarium.controllers.notebook_controller import NotebookController"
   ]
  },
  {
   "cell_type": "code",
   "execution_count": 2,
   "metadata": {},
   "outputs": [
    {
     "name": "stdout",
     "output_type": "stream",
     "text": [
      "/home/corentinlger/code/vivarium/vivarium/utils\n",
      "\n",
      "STARTING SERVER\n"
     ]
    },
    {
     "name": "stderr",
     "output_type": "stream",
     "text": [
      "your 131072x1 screen size is bogus. expect trouble\n",
      "your 131072x1 screen size is bogus. expect trouble\n",
      "An NVIDIA GPU may be present on this machine, but a CUDA-enabled jaxlib is not installed. Falling back to cpu.\n"
     ]
    },
    {
     "name": "stdout",
     "output_type": "stream",
     "text": [
      "[2024-12-20 17:42:43,081][__main__][INFO] - Scene running: session_5\n",
      "\n",
      "STARTING INTERFACE\n"
     ]
    },
    {
     "name": "stderr",
     "output_type": "stream",
     "text": [
      "2024-12-20 17:42:47,384 Starting Bokeh server version 3.3.4 (running on Tornado 6.4.2)\n",
      "2024-12-20 17:42:47,384 User authentication hooks NOT provided (default user enabled)\n",
      "2024-12-20 17:42:47,387 Bokeh app running at: http://localhost:5006/run_interface\n",
      "2024-12-20 17:42:47,387 Starting Bokeh server with process id: 63479\n"
     ]
    },
    {
     "name": "stdout",
     "output_type": "stream",
     "text": [
      "[2024-12-20 17:42:47,647][vivarium.simulator.simulator][INFO] - Simulator initialized\n"
     ]
    }
   ],
   "source": [
    "start_server_and_interface(scene_name=\"session_5\")"
   ]
  },
  {
   "cell_type": "markdown",
   "metadata": {},
   "source": [
    "Start running the controller and check the simulation works well before starting other parts of the session. To do so, you can run the following cell."
   ]
  },
  {
   "cell_type": "markdown",
   "metadata": {},
   "source": [
    "### COMMENT: if someone does controller.start(), it raises an error as the controller inherits from simulator controller. Do we want to change this?"
   ]
  },
  {
   "cell_type": "code",
   "execution_count": 3,
   "metadata": {},
   "outputs": [
    {
     "name": "stderr",
     "output_type": "stream",
     "text": [
      "2024-12-20 17:42:50,568 An NVIDIA GPU may be present on this machine, but a CUDA-enabled jaxlib is not installed. Falling back to cpu.\n"
     ]
    },
    {
     "name": "stderr",
     "output_type": "stream",
     "text": [
      "/home/corentinlger/code/vivarium/venv/lib/python3.10/site-packages/jax/_src/ops/scatter.py:96: FutureWarning: scatter inputs have incompatible types: cannot safely cast value from dtype=float32 to dtype=int32 with jax_numpy_dtype_promotion='standard'. In future JAX releases this will result in an error.\n",
      "  warnings.warn(\n"
     ]
    },
    {
     "name": "stderr",
     "output_type": "stream",
     "text": [
      "2024-12-20 17:42:53,707 WebSocket connection opened\n",
      "2024-12-20 17:42:53,810 ServerConnection created\n",
      "Error while executing routine: local variable 'eatable_entities_idx' referenced before assignment, removing routine prey_predator_eating_routine\n"
     ]
    },
    {
     "name": "stdout",
     "output_type": "stream",
     "text": [
      "Simulator is already stopped\n"
     ]
    }
   ],
   "source": [
    "controller = NotebookController()\n",
    "controller.run()"
   ]
  },
  {
   "cell_type": "markdown",
   "metadata": {},
   "source": [
    "Then, print the different subtypes present in the simulation, you will need this information later:"
   ]
  },
  {
   "cell_type": "code",
   "execution_count": 4,
   "metadata": {},
   "outputs": [
    {
     "name": "stdout",
     "output_type": "stream",
     "text": [
      "['s_obstacles', 'b_obstacles', 'resources', 'agents']\n"
     ]
    }
   ],
   "source": [
    "controller.print_subtypes_list()"
   ]
  },
  {
   "cell_type": "markdown",
   "metadata": {},
   "source": [
    "As in session 4, we will work with `agents`, `resources`, as well as small and big `obstacles`. We will also define classical braitenberg behaviors in advance, in orderto react to other agents' presence, as well as the `obstacle_avoidance` and `foraging` behaviors."
   ]
  },
  {
   "cell_type": "code",
   "execution_count": 5,
   "metadata": {
    "collapsed": true
   },
   "outputs": [],
   "source": [
    "def fear(agent):\n",
    "    left, right = agent.sensors(sensed_entities=[\"agents\"])\n",
    "    left_wheel = left\n",
    "    right_wheel = right\n",
    "    return left_wheel, right_wheel\n",
    "\n",
    "def aggression(agent):\n",
    "    left, right = agent.sensors(sensed_entities=[\"agents\"])\n",
    "    left_wheel = right\n",
    "    right_wheel = left\n",
    "    return left_wheel, right_wheel\n",
    "\n",
    "def love_cuddly(agent):\n",
    "    left, right = agent.sensors(sensed_entities=[\"agents\"])\n",
    "    left_wheel = 1 - left\n",
    "    right_wheel = 1 - right   \n",
    "    return left_wheel, right_wheel\n",
    "\n",
    "def love_shy(agent):\n",
    "    left, right = agent.sensors(sensed_entities=[\"agents\"])\n",
    "    left_wheel = 1 - right\n",
    "    right_wheel = 1 - left   \n",
    "    return left_wheel, right_wheel\n",
    "\n",
    "def obstacle_avoidance(agent):\n",
    "    left, right = agent.sensors(sensed_entities=[\"s_obstacles\", \"b_obstacles\"])\n",
    "    left_wheel = 1 - right\n",
    "    right_wheel = 1 - left   \n",
    "    return left_wheel, right_wheel\n",
    "\n",
    "def foraging(agent):\n",
    "    left, right = agent.sensors(sensed_entities=[\"resources\"])\n",
    "    left_activation = right\n",
    "    right_activation = left\n",
    "    return left_activation, right_activation"
   ]
  },
  {
   "cell_type": "markdown",
   "metadata": {},
   "source": [
    "Additionally, the simiulation will be pretty slow with the default parameters as there are a lot of entities in this scene. You can speed up the simulation by increasing the `Num steps lax`parameter in the web interface (e.g from 6 to 20)."
   ]
  },
  {
   "cell_type": "markdown",
   "metadata": {},
   "source": [
    "## 1 - Understanding alive and dead agents\n",
    "\n",
    "In this session, we will dive deeper into the concept of existing and non existing agents. We already briefly saw this in the end of session 3, where we added an agent to the simulation. Let's first start printing the number of alive and dead agents in the simulation."
   ]
  },
  {
   "cell_type": "code",
   "execution_count": 6,
   "metadata": {},
   "outputs": [
    {
     "name": "stdout",
     "output_type": "stream",
     "text": [
      "Number of agents: 10\n"
     ]
    }
   ],
   "source": [
    "n_agents = len(controller.agents)\n",
    "print(f\"Number of agents: {n_agents}\")"
   ]
  },
  {
   "cell_type": "markdown",
   "metadata": {},
   "source": [
    "We can see there are only 4 agents in the web interface, but it is printed there are 10 agents in the `controller.agents` list ! This is because 10 is the maximum number of agents supported in this siumation. If we only see 4 of them at the moment, it is because 6 of them are marked as `non existing`, which make them invisible to us in the web interface, but also prevents them from interacting with any other entity in the scene (they cannot be sensed, pushed ..). We can check this with the following command and see which agents are dead or alive by using the `exists` attribute:"
   ]
  },
  {
   "cell_type": "code",
   "execution_count": 7,
   "metadata": {},
   "outputs": [
    {
     "name": "stdout",
     "output_type": "stream",
     "text": [
      "agent 0: exists = True\n",
      "agent 1: exists = True\n",
      "agent 2: exists = True\n",
      "agent 3: exists = True\n",
      "agent 4: exists = False\n",
      "agent 5: exists = False\n",
      "agent 6: exists = False\n",
      "agent 7: exists = False\n",
      "agent 8: exists = False\n",
      "agent 9: exists = False\n"
     ]
    }
   ],
   "source": [
    "for agent in controller.agents:\n",
    "    print(f\"agent {agent.idx}: exists = {agent.exists}\")"
   ]
  },
  {
   "cell_type": "markdown",
   "metadata": {},
   "source": [
    "We can indeed observe that the first 4 agents of the simulator are alive. Now we are going to see how to make an agent spawn. We see that the agent 4 is non existing, so we are going to make it alive. We can do this by setting its `exists` attribute to `True`. Let's do this in the next cell."
   ]
  },
  {
   "cell_type": "code",
   "execution_count": 8,
   "metadata": {},
   "outputs": [],
   "source": [
    "agent_idx = 4 # idx of a dead agent\n",
    "agent = controller.agents[agent_idx]\n",
    "agent.exists = True # make the agent spawn"
   ]
  },
  {
   "cell_type": "markdown",
   "metadata": {},
   "source": [
    "### COMMENT : do we detail this mechanism and explain how we can also spawn and kill other entiites such as objects ? "
   ]
  },
  {
   "cell_type": "markdown",
   "metadata": {},
   "source": [
    "We also provided a special function from the controller that handles this for us: `spawn_entity`. It can be used either on an agent or an object. You just need to provide the index of the entity you want to spawn, and can additionally pass a `position` parameter in order to make the entity appear at a spefici. For instance if we want to spawn the agent 5 at the coordinates (150, 150), we can do it with the following command:"
   ]
  },
  {
   "cell_type": "code",
   "execution_count": 9,
   "metadata": {},
   "outputs": [
    {
     "data": {
      "text/plain": [
       "<vivarium.controllers.notebook_controller.Agent at 0x7fbf4c4d4970>"
      ]
     },
     "execution_count": 9,
     "metadata": {},
     "output_type": "execute_result"
    }
   ],
   "source": [
    "agent_idx = 5 # idx of a dead agent\n",
    "controller.spawn_entity(agent_idx, position=[150, 150])"
   ]
  },
  {
   "cell_type": "markdown",
   "metadata": {},
   "source": [
    "Now that you know how to spawn entities by switching their `exists` attribute, let's see how to 'kill' them by setting it to `False`. We will kill the agent 4 in the next cell:"
   ]
  },
  {
   "cell_type": "code",
   "execution_count": 10,
   "metadata": {},
   "outputs": [],
   "source": [
    "agent_idx = 4 # idx of an alive agent\n",
    "agent = controller.agents[agent_idx]\n",
    "agent.exists = False # kill the agent"
   ]
  },
  {
   "cell_type": "markdown",
   "metadata": {},
   "source": [
    "Once again, we also have a method in the controller to do that which is named `remove_entity`. It also only requires the index of the entity you want to remove. For instance, if we want to remove the agent 5, we can do it with the following command:"
   ]
  },
  {
   "cell_type": "code",
   "execution_count": 11,
   "metadata": {},
   "outputs": [],
   "source": [
    "agent_idx = 5 # idx of an alive agent\n",
    "controller.remove_entity(agent_idx)"
   ]
  },
  {
   "cell_type": "markdown",
   "metadata": {},
   "source": [
    "Now you have the basics to make agents spwan and die ! "
   ]
  },
  {
   "cell_type": "markdown",
   "metadata": {},
   "source": [
    "If you want to manipulate dead and alive agents lists in the simulation, you can do it manually like in the following cell. You just need to iterate over the `controller.agents` list and check the `exists` attribute of each agent. In order to only get the alive agents, add a condition to check if the `agent.exists` attribute is `True`, and to get the dead agents, check if it is `False`."
   ]
  },
  {
   "cell_type": "code",
   "execution_count": 12,
   "metadata": {},
   "outputs": [
    {
     "name": "stdout",
     "output_type": "stream",
     "text": [
      "Getting existing agents manually: \n",
      "0\n",
      "1\n",
      "2\n",
      "3\n"
     ]
    }
   ],
   "source": [
    "print(\"Getting existing agents manually: \")\n",
    "for agent in controller.agents:\n",
    "    if agent.exists == True:\n",
    "        print(agent.idx)"
   ]
  },
  {
   "cell_type": "markdown",
   "metadata": {},
   "source": [
    "But you also have helper attributes in the controller to do the same thing with the `existing_agents` and `non_existing_agents` attributes. You can access them like this:"
   ]
  },
  {
   "cell_type": "code",
   "execution_count": 13,
   "metadata": {},
   "outputs": [
    {
     "name": "stdout",
     "output_type": "stream",
     "text": [
      "Getting existing agents with 'controller.existing_agents': \n",
      "0\n",
      "1\n",
      "2\n",
      "3\n"
     ]
    }
   ],
   "source": [
    "print(\"Getting existing agents with 'controller.existing_agents': \")\n",
    "for agent in controller.existing_agents:\n",
    "    print(agent.idx)"
   ]
  },
  {
   "cell_type": "code",
   "execution_count": 14,
   "metadata": {},
   "outputs": [
    {
     "name": "stdout",
     "output_type": "stream",
     "text": [
      "Getting non existing agents with 'controller.non_existing_agents': \n",
      "4\n",
      "5\n",
      "6\n",
      "7\n",
      "8\n",
      "9\n"
     ]
    }
   ],
   "source": [
    "print(\"Getting non existing agents with 'controller.non_existing_agents': \")\n",
    "for agent in controller.non_existing_agents:\n",
    "    print(agent.idx)"
   ]
  },
  {
   "cell_type": "markdown",
   "metadata": {},
   "source": [
    "For example, these shortcuts can be used to attach behaviors only to existing agents. You can technically also attach them to dead agents but it won't have any effect, since their behaviors won't be executed (however it might slow down the simulation):"
   ]
  },
  {
   "cell_type": "code",
   "execution_count": 15,
   "metadata": {},
   "outputs": [],
   "source": [
    "for agent in controller.existing_agents:\n",
    "    agent.attach_behavior(obstacle_avoidance)\n",
    "    agent.attach_behavior(love_cuddly)"
   ]
  },
  {
   "cell_type": "markdown",
   "metadata": {},
   "source": [
    "If we print the behaviors of all agents in the simulation, we can see that the first 4 agents indeed have the same behaviors attached to them, and the 6 other ones have no behavior attached to them."
   ]
  },
  {
   "cell_type": "code",
   "execution_count": 21,
   "metadata": {},
   "outputs": [
    {
     "name": "stdout",
     "output_type": "stream",
     "text": [
      "Attached behaviors: ['obstacle_avoidance', 'love_cuddly'], Started behaviors: ['obstacle_avoidance', 'love_cuddly']\n",
      "Attached behaviors: ['obstacle_avoidance', 'love_cuddly'], Started behaviors: ['obstacle_avoidance', 'love_cuddly']\n",
      "Attached behaviors: ['obstacle_avoidance', 'love_cuddly'], Started behaviors: ['obstacle_avoidance', 'love_cuddly']\n",
      "Attached behaviors: ['obstacle_avoidance', 'love_cuddly'], Started behaviors: ['obstacle_avoidance', 'love_cuddly']\n",
      "No behavior attached\n",
      "No behavior attached\n",
      "No behavior attached\n",
      "No behavior attached\n",
      "No behavior attached\n",
      "No behavior attached\n"
     ]
    }
   ],
   "source": [
    "for agent in controller.agents:\n",
    "    agent.print_behaviors()"
   ]
  },
  {
   "cell_type": "markdown",
   "metadata": {},
   "source": [
    "Now let's stop the behaviors and the motors of the agents in order to proceed to the next part of the session. "
   ]
  },
  {
   "cell_type": "code",
   "execution_count": 22,
   "metadata": {},
   "outputs": [],
   "source": [
    "for agent in controller.agents:\n",
    "    agent.detach_all_behaviors(stop_motors=True)"
   ]
  },
  {
   "cell_type": "markdown",
   "metadata": {},
   "source": [
    "### COMMENT: do we talk about controller routines now ? Or do we explain this later ? "
   ]
  },
  {
   "cell_type": "markdown",
   "metadata": {},
   "source": [
    "## 2 - Understanding Entities routines\n",
    "\n",
    "We already saw the routines mechanism in the last session. It was used to update the energy level of the agents. In this session, we are going to see how to use routines on any kind of entities in order to make an interesting simulation. \n",
    "\n",
    "First, we need to remember how routines are defined, attached, and detached. They are pretty similar to behaviors. They are defined as functions with a single argument representing the entity they will be attached to (either an agent or an object). You can attach them with the `attach_routine` method of the entity (you can also precise its interval of execution with the `interval` argument), and detach them with the `detach_routine` method."
   ]
  },
  {
   "cell_type": "markdown",
   "metadata": {},
   "source": [
    "### Making an obstacle move\n",
    "\n",
    "You can easielty make an object move with the following routine (e.g move it to the left by 2. units every time the routine is called):"
   ]
  },
  {
   "cell_type": "code",
   "execution_count": 16,
   "metadata": {},
   "outputs": [],
   "source": [
    "position_shift = 2.\n",
    "\n",
    "# move the entity to the right by 2 units\n",
    "def move_entity_right_routine(entity):\n",
    "    entity.x_position += position_shift\n",
    "\n",
    "# move the entity to the top by 2 units\n",
    "def move_entity_top_routine(entity):\n",
    "    entity.y_position += position_shift"
   ]
  },
  {
   "cell_type": "markdown",
   "metadata": {},
   "source": [
    "Let's give an object specific characteristics and attach a routine to it."
   ]
  },
  {
   "cell_type": "code",
   "execution_count": 17,
   "metadata": {},
   "outputs": [],
   "source": [
    "obj = controller.objects[16]\n",
    "obj.diameter = 10.\n",
    "obj.color = \"black\""
   ]
  },
  {
   "cell_type": "markdown",
   "metadata": {},
   "source": [
    "You can then attach a first routine, with an interval of 1 for example (the routine will be executed at each simulation step):"
   ]
  },
  {
   "cell_type": "code",
   "execution_count": 18,
   "metadata": {},
   "outputs": [],
   "source": [
    "obj.attach_routine(move_entity_right_routine, interval=1)"
   ]
  },
  {
   "cell_type": "markdown",
   "metadata": {},
   "source": [
    "You can combine this with a routine to go top, which will make object move diagonally. If you use a longer interval for this routine, like 2, what will be the movement of the object ?"
   ]
  },
  {
   "cell_type": "markdown",
   "metadata": {},
   "source": [
    "*Your answer here:*"
   ]
  },
  {
   "cell_type": "code",
   "execution_count": 19,
   "metadata": {},
   "outputs": [],
   "source": [
    "obj.attach_routine(move_entity_top_routine, interval=2)"
   ]
  },
  {
   "cell_type": "markdown",
   "metadata": {},
   "source": [
    "You can then detach the routines from the object : "
   ]
  },
  {
   "cell_type": "code",
   "execution_count": 20,
   "metadata": {},
   "outputs": [],
   "source": [
    "obj.detach_routine(\"move_entity_right_routine\")\n",
    "obj.detach_routine(\"move_entity_top_routine\")"
   ]
  },
  {
   "cell_type": "markdown",
   "metadata": {},
   "source": [
    "You can now try implementing a similar mechanism with other kind of objects, like resources."
   ]
  },
  {
   "cell_type": "markdown",
   "metadata": {},
   "source": [
    "### Making an entity change color periodically :\n",
    "\n",
    "Here we will present another example of routine that you can use in your future projects. It will manipulate the color of entities. For instance, we will make an agent change its color every 2 simulation steps.\n",
    "\n",
    "First, we need to better understand how we can control the colors of the entities in the simulation. You can actually set them as strings, but they are encoded in [hexedecimal format](https://htmlcolorcodes.com/) within the entities, as we can see in the following cell:"
   ]
  },
  {
   "cell_type": "code",
   "execution_count": 21,
   "metadata": {},
   "outputs": [
    {
     "name": "stdout",
     "output_type": "stream",
     "text": [
      "Agent color is: #0000ff\n"
     ]
    }
   ],
   "source": [
    "agent = controller.agents[0]\n",
    "agent.color = \"red\"\n",
    "agent_color = agent.color\n",
    "print(f\"Agent color is: {agent_color}\")"
   ]
  },
  {
   "cell_type": "markdown",
   "metadata": {},
   "source": [
    "In the following cell, we show how to manipulate the colors with the `matplotlib.colors` module. You can use the `to_hex` function to convert a color (either a string or a [RGB value](https://www.rapidtables.com/web/color/RGB_Color.html)) to its hexadecimal representation."
   ]
  },
  {
   "cell_type": "code",
   "execution_count": 22,
   "metadata": {},
   "outputs": [
    {
     "name": "stdout",
     "output_type": "stream",
     "text": [
      "Blue color\n",
      "Transforming blue text color to hex: #0000ff\n",
      "Transforming blue rgb color to hex: #0000ff\n",
      "\n",
      "Red color\n",
      "Transforming red text color to RGB: (1.0, 0.0, 0.0)\n",
      "Transforming red rgb color to RGB: (1.0, 0.0, 0.0)\n"
     ]
    }
   ],
   "source": [
    "# blue color\n",
    "print(\"Blue color\")\n",
    "print(f\"Transforming blue text color to hex: {colors.to_hex('blue')}\")\n",
    "print(f\"Transforming blue rgb color to hex: {colors.to_hex((0.0, 0.0, 1.0))}\")\n",
    "\n",
    "# red color\n",
    "print(\"\\nRed color\")\n",
    "print(f\"Transforming red text color to RGB: {colors.to_rgb('red')}\")\n",
    "print(f\"Transforming red rgb color to RGB: {colors.to_rgb('#ff0000')}\")"
   ]
  },
  {
   "cell_type": "markdown",
   "metadata": {},
   "source": [
    "Now that you know how to get the hex code of a color, you can also make an entity change color periodically with the following routine :"
   ]
  },
  {
   "cell_type": "code",
   "execution_count": 23,
   "metadata": {},
   "outputs": [],
   "source": [
    "def change_color(entity):\n",
    "    # if the entity hex color is blue, change it to cyan\n",
    "    if entity.color == colors.to_hex(\"blue\"):\n",
    "        entity.color = \"cyan\"\n",
    "    # otherwise, change it to blue\n",
    "    else:\n",
    "        entity.color = \"blue\""
   ]
  },
  {
   "cell_type": "markdown",
   "metadata": {},
   "source": [
    "Then we attach it with an interval of 5 to the agent to make it change color every 5 simulation steps:"
   ]
  },
  {
   "cell_type": "code",
   "execution_count": 24,
   "metadata": {},
   "outputs": [],
   "source": [
    "agent.attach_routine(change_color, interval=5)"
   ]
  },
  {
   "cell_type": "code",
   "execution_count": 25,
   "metadata": {},
   "outputs": [],
   "source": [
    "agent.detach_routine(\"change_color\")"
   ]
  },
  {
   "cell_type": "markdown",
   "metadata": {},
   "source": [
    "This won't necessarly be useful for your next projects, but it's a good example of how you can manipulate entities in the simulation . You can also combine this with other routines to create more complex behaviors. For example, we could have this kind of routines attached to agents to indicate their health status (blinking when they have low energy), or having selective behaviors based on other agents' colors !\n",
    "\n",
    "Let's stop the controller to proceed to the next part of the session:"
   ]
  },
  {
   "cell_type": "code",
   "execution_count": 32,
   "metadata": {},
   "outputs": [],
   "source": [
    "controller.stop()"
   ]
  },
  {
   "cell_type": "markdown",
   "metadata": {},
   "source": [
    "## 2 - Understanding Controller routines\n",
    "\n",
    "We already saw how to implement and use routines for agents and objects, but we can also actually use them with our `controller`. This is actually already done behind the scene with some functions you already used in the precedent notebooks, for example the mechanisms of eating and resources spawning. The routines of the controller are implemented and use exactly the same way as for entities, with a function taking as argument the controller, and the `attach_routine` and `detach_routine` methods to manage its activation in the simulation. \n",
    "\n",
    "Let's see with more details how the eating mechanism. It can be implemented with different ways, we will present one of them in the next cell. We start by defining the routine function, `example_eating_routine` here, by adding `controller` as an argument. Then, we iterate over the list of existing agents in order to make them eat. At the level of one agent, we iterate over its list of eatable entities types (`diet`). Then we see which entities corresponding to these types are existing and in range of the agent, and we make them dissapear. Finally if an agent eats, we also reset its `time_since_feeding` to 0, and set its `ate` flag to True to signal he has eaten in the last simulation step.\n",
    "\n",
    "You can take a look at the commented code below (don't worry, you don't need to understand everything in details, just the general idea)."
   ]
  },
  {
   "cell_type": "markdown",
   "metadata": {},
   "source": [
    "### COMMENT: should we explain w more details the fact that controller routines also enables to control agents, objects ... I might not be non trivial for students"
   ]
  },
  {
   "cell_type": "code",
   "execution_count": 26,
   "metadata": {},
   "outputs": [],
   "source": [
    "def example_eating_routine(controller):\n",
    "    # iterate over all agents to see if they can eat any entity\n",
    "    for agent in controller.existing_agents:\n",
    "        # iterate over all entity types that the agent can eat (e.g \"resources\", \"agents\" ...)\n",
    "        for entity_type in agent.diet:\n",
    "            # transform this eatable entity type label into an idx (e.g \"resources\" -> 1)\n",
    "            entity_type = controller._subtype_label_to_idx[entity_type]\n",
    "            # get the indexes of all entities in the simulation that correspond to this eatable entity type (excluding the agent itself)\n",
    "            eatable_entities_idx = [ent.idx for ent in controller.all_entities if ent.subtype == entity_type and ent.idx != agent.idx]\n",
    "            # get the distances between the agent and all eatable entities\n",
    "            distances = agent.config.proximity_map_dist[eatable_entities_idx]\n",
    "            # check if the distance between the agent and the eatable entities is less than the eating range of the agent\n",
    "            in_range = distances < agent.eating_range\n",
    "            \n",
    "            # iterate over all eatable entities indexes to see if the agent can eat them\n",
    "            for arr_idx, ent_idx in enumerate(eatable_entities_idx):\n",
    "                # if the entity exists and is in range :\n",
    "                if in_range[arr_idx] and controller.all_entities[ent_idx].exists:\n",
    "                    # remove it from the simulation\n",
    "                    controller.remove_entity(ent_idx)\n",
    "                    # set the ate flag of the agent to True, and reset the time since feeding to 0\n",
    "                    agent.time_since_feeding = 0\n",
    "                    agent.ate = True"
   ]
  },
  {
   "cell_type": "markdown",
   "metadata": {},
   "source": [
    "### Understanding advanced Python concepts:\n",
    "\n",
    "In the precedent function, we use so advanced python concepts unseen in the last sessions, such as `list comprehension`, or the `enumerate` function. Let's see how they work in more details."
   ]
  },
  {
   "cell_type": "markdown",
   "metadata": {},
   "source": [
    "#### Enumerate function:\n",
    "\n",
    "We used the `enumerate` function in this line of code: \n",
    "\n",
    "```python\n",
    "for arr_idx, ent_idx in enumerate(eatable_entities_idx):\n",
    "```\n",
    "\n",
    "The `enumerate` function is used to iterate over a list and provide both the index and the value of each element. It returns an enumerate object, which can be converted to a list of tuples, where each tuple contains the index and the value of the corresponding element. Here, it enables to get the index of the entity in the list of eatable entities, as well as its index in the list of all entities in the simulation.\n",
    "\n",
    "Let's see how it works with a simpler example. We will define a list of strings, and iterate over it with the `enumerate` function to print the index and the value of each element."
   ]
  },
  {
   "cell_type": "code",
   "execution_count": 27,
   "metadata": {},
   "outputs": [
    {
     "name": "stdout",
     "output_type": "stream",
     "text": [
      "index: 0, value: A\n",
      "index: 1, value: B\n",
      "index: 2, value: C\n",
      "index: 3, value: D\n"
     ]
    }
   ],
   "source": [
    "list_of_strings = [\"A\", \"B\", \"C\", \"D\"]\n",
    "\n",
    "for i, string in enumerate(list_of_strings):\n",
    "    print(f\"index: {i}, value: {string}\")"
   ]
  },
  {
   "cell_type": "markdown",
   "metadata": {},
   "source": [
    "#### List comprehension:\n",
    "\n",
    "We can see the eatabble entities index are defined like that: \n",
    "\n",
    "```python\n",
    "eatable_entities_idx = [ent.idx for ent in controller.all_entities if ent.subtype == entity_type and ent.idx != agent.idx]\n",
    "```\n",
    "\n",
    "This actually creates a list of indexes of entities that are of the type `entity_type` and are not the agent itself. Let's explain this concept with a simpler example. We will create a list of the even numbers between 0 to 9 with a for loop, and then with a list comprehension. First to create the list with a for loop, we need to create an empty list, and then append the numbers between 0 and 9 if they are even. We can do it like this:"
   ]
  },
  {
   "cell_type": "code",
   "execution_count": 28,
   "metadata": {},
   "outputs": [
    {
     "name": "stdout",
     "output_type": "stream",
     "text": [
      "[0, 2, 4, 6, 8]\n"
     ]
    }
   ],
   "source": [
    "# create an empty list\n",
    "result = []\n",
    "\n",
    "# iterate over the range of 10\n",
    "for i in range (0, 10):\n",
    "    # check if the number is even\n",
    "    if i % 2 == 0:\n",
    "        # append the number to the list\n",
    "        result.append(i)\n",
    "\n",
    "print(result)"
   ]
  },
  {
   "cell_type": "markdown",
   "metadata": {},
   "source": [
    "We can also do it in one line with a list comprehension. The syntax is `[expression for item in iterable if condition]`. In our case, the expression is `i`, the item is `range(10)`, and the condition is `i % 2 == 0`. This is harder to read at first, but it is a very powerful tool in Python to create lists in a more concise way."
   ]
  },
  {
   "cell_type": "code",
   "execution_count": 29,
   "metadata": {},
   "outputs": [
    {
     "name": "stdout",
     "output_type": "stream",
     "text": [
      "[0, 2, 4, 6, 8]\n"
     ]
    }
   ],
   "source": [
    "# create the same list using list comprehension\n",
    "result = [i for i in range(0, 10) if i % 2 == 0]\n",
    "print(result)"
   ]
  },
  {
   "cell_type": "markdown",
   "metadata": {},
   "source": [
    "Now let's close this parenthesis on Python advanced concepts and go back to the controller routines. First, run again the controller: "
   ]
  },
  {
   "cell_type": "code",
   "execution_count": 33,
   "metadata": {},
   "outputs": [
    {
     "name": "stdout",
     "output_type": "stream",
     "text": [
      "Simulator is already stopped\n"
     ]
    }
   ],
   "source": [
    "controller.run()"
   ]
  },
  {
   "cell_type": "markdown",
   "metadata": {},
   "source": [
    "When you call the `start_eating_mechanism` method of the controller , it actually attaches a predefined function called `eating_routine_range`, that is very similar to the function defined above. To do so, it uses the `attach_routine` method:"
   ]
  },
  {
   "cell_type": "code",
   "execution_count": 34,
   "metadata": {},
   "outputs": [],
   "source": [
    "controller.attach_routine(example_eating_routine, interval=10)"
   ]
  },
  {
   "cell_type": "markdown",
   "metadata": {},
   "source": [
    "You can also check the routines of the `controller` with the `print_routines` method. As for entities, the important thing is to check the `Active routines` of this print statement to see which routines are actually running in the controller."
   ]
  },
  {
   "cell_type": "code",
   "execution_count": 35,
   "metadata": {},
   "outputs": [
    {
     "name": "stdout",
     "output_type": "stream",
     "text": [
      "Available routines: ['example_eating_routine'], Active routines: ['example_eating_routine']\n"
     ]
    }
   ],
   "source": [
    "controller.print_routines()"
   ]
  },
  {
   "cell_type": "code",
   "execution_count": 36,
   "metadata": {},
   "outputs": [],
   "source": [
    "for agent in controller.existing_agents:\n",
    "    agent.diet = [\"resources\"]\n",
    "    agent.attach_behavior(foraging)\n",
    "    agent.attach_behavior(obstacle_avoidance)"
   ]
  },
  {
   "cell_type": "markdown",
   "metadata": {},
   "source": [
    "You should now see the eating mechanism in action in the simulation ! Now you can stop the behaviors and the motors of the agents."
   ]
  },
  {
   "cell_type": "code",
   "execution_count": 37,
   "metadata": {},
   "outputs": [],
   "source": [
    "for agent in controller.existing_agents:\n",
    "    agent.detach_all_behaviors(stop_motors=True)"
   ]
  },
  {
   "cell_type": "markdown",
   "metadata": {},
   "source": [
    "Additionally, stop the current eating routine with the `detach_routine` function, before proceeding to the next part of the session."
   ]
  },
  {
   "cell_type": "code",
   "execution_count": 41,
   "metadata": {},
   "outputs": [],
   "source": [
    "controller.detach_routine(\"example_eating_routine\")"
   ]
  },
  {
   "cell_type": "markdown",
   "metadata": {},
   "source": [
    "## 3 - Implementing reproduction with controller routines "
   ]
  },
  {
   "cell_type": "markdown",
   "metadata": {},
   "source": [
    "Now that you understood the basics of entities and controller routines, we are going to implement a reproduction mechanism in the simulation. To do so, we will need to manipulate existing and non existing agents. Let's do a quick recap on a few function and discover new features that will be useful for this part of the session.\n",
    "\n",
    "If we want to make agents spawn, we first need to get a non existing agent in order to make it alive. We saw we can get the list of existing and non existing agents with the `existing_agents` and `non_existing_agents` attributes of the controller. We can actually get the indexes of the non existing agents this way:"
   ]
  },
  {
   "cell_type": "code",
   "execution_count": 38,
   "metadata": {},
   "outputs": [
    {
     "name": "stdout",
     "output_type": "stream",
     "text": [
      "[4, 5, 6, 7, 8, 9]\n"
     ]
    }
   ],
   "source": [
    "non_existing_agents_idx = [agent.idx for agent in controller.non_existing_agents]\n",
    "print(non_existing_agents_idx)"
   ]
  },
  {
   "cell_type": "markdown",
   "metadata": {},
   "source": [
    "Then, we want to pick a random index inside this list, using the `np.random.choice` function (note that if you execute the function several times, you will see that the index isn't the same everytime time):"
   ]
  },
  {
   "cell_type": "code",
   "execution_count": 39,
   "metadata": {},
   "outputs": [
    {
     "name": "stdout",
     "output_type": "stream",
     "text": [
      "5\n"
     ]
    }
   ],
   "source": [
    "random_agent_idx = np.random.choice(non_existing_agents_idx)\n",
    "print(random_agent_idx)"
   ]
  },
  {
   "cell_type": "markdown",
   "metadata": {},
   "source": [
    "Great, now we can get the index of a dead agent to make it spawn. In order to implement interesting reproduction mechanism, we might want to spawn offsprings next to their parents. In order to do so, we can implement a little trick. Let's say the agent 0 will reproduce, we can get its position with the following command :"
   ]
  },
  {
   "cell_type": "code",
   "execution_count": 40,
   "metadata": {},
   "outputs": [
    {
     "name": "stdout",
     "output_type": "stream",
     "text": [
      "agent position is [137.70242309570312, 278.88446044921875]\n"
     ]
    }
   ],
   "source": [
    "agent_idx = 0\n",
    "# get agent position\n",
    "position = [agent.x_position, agent.y_position]\n",
    "print(f\"agent position is {position}\")"
   ]
  },
  {
   "cell_type": "markdown",
   "metadata": {},
   "source": [
    "If we make an offspring spawn exactly at the same position, we will get an error. This is because the physics engine of the simulator will have a problem if two entities are located at the same exact place. So we need to spawn the new agent at a position that is slightly different from its parent position. To do so, we can add a little random value `epsilon` to the modify the position of the offspring with numpy. We will show this mechanism in the next cell, with these random values for the x and y axis staying between -5 and 5."
   ]
  },
  {
   "cell_type": "code",
   "execution_count": 41,
   "metadata": {},
   "outputs": [
    {
     "name": "stdout",
     "output_type": "stream",
     "text": [
      "epsilon = [ 4.59245245 -0.96418207]\n"
     ]
    }
   ],
   "source": [
    "# epsilon between -max_distance and +max_distance, of shape (2), representing the x and y epsilon\n",
    "max_epsilon_distance = 5\n",
    "epsilon = np.random.uniform(-max_epsilon_distance, max_epsilon_distance, 2)\n",
    "print(f\"epsilon = {epsilon}\")"
   ]
  },
  {
   "cell_type": "code",
   "execution_count": 42,
   "metadata": {},
   "outputs": [
    {
     "name": "stdout",
     "output_type": "stream",
     "text": [
      "original position: [137.70242309570312, 278.88446044921875]\n",
      "new position: [142.29487554 277.92027838]\n"
     ]
    }
   ],
   "source": [
    "# create new position by adding epsilon to the current position\n",
    "new_position = position + epsilon\n",
    "print(f\"original position: {position}\")\n",
    "print(f\"new position: {new_position}\")"
   ]
  },
  {
   "cell_type": "markdown",
   "metadata": {},
   "source": [
    "## 3.1 - Implementing an asexual reproduction routine\n",
    "\n",
    "With all the previous information, we can now implement a simple reproduction routine for agents ! We will implement an asexual reproduction mechanism, where an agent will spawn an offspring next to it when it eats a resource. \n",
    "\n",
    "To do so, we will use the `has_eaten` function of the agents, which is set to `True` when the agent has eaten since the last call of the function. We will also make the agent spawn an offspring with a smaller diameter than itself to make them easily distinguishable. We will also attach them behaviors in order to make them move and eat."
   ]
  },
  {
   "cell_type": "code",
   "execution_count": 43,
   "metadata": {},
   "outputs": [],
   "source": [
    "# spawn the a new agent every time an agent has eaten !\n",
    "offspring_diameter = 7.\n",
    "\n",
    "def asexual_reproduction(controller):\n",
    "    # iterate over all the existing agents in the controller\n",
    "    for agent in controller.existing_agents: \n",
    "        # check if the agent has eaten\n",
    "        if agent.has_eaten():\n",
    "            # get the index of the dead agents to select one and make it spawn\n",
    "            non_existing_agents_idx = [agent.idx for agent in controller.agents if agent.exists == False]\n",
    "\n",
    "            # check if there are non existing agents (if non_existing_agents_idx is an empty list, do nothing)\n",
    "            if non_existing_agents_idx:\n",
    "                # select one dead agent index randomly\n",
    "                agent_idx = np.random.choice(non_existing_agents_idx)\n",
    "\n",
    "                # add some noise to the position of the parent to create the offspring position\n",
    "                epsilon = np.random.uniform(-max_epsilon_distance, max_epsilon_distance, 2)\n",
    "                parent_position = [agent.x_position, agent.y_position]\n",
    "                offspring_position = parent_position + epsilon\n",
    "\n",
    "                # make the offspring spawn at the new position\n",
    "                offspring = controller.spawn_entity(agent_idx, position=offspring_position) \n",
    "                # set the diameter of the offspring\n",
    "                offspring.diameter = offspring_diameter\n",
    "                # attach the behaviors to the offspring so it starts moving\n",
    "                offspring.attach_behavior(obstacle_avoidance)\n",
    "                offspring.attach_behavior(foraging)\n",
    "                offspring.diet = [\"resources\"]"
   ]
  },
  {
   "cell_type": "markdown",
   "metadata": {},
   "source": [
    "We will start again the eating and resources spawning mechanisms, and attach back the behaviors of the agents. "
   ]
  },
  {
   "cell_type": "code",
   "execution_count": 44,
   "metadata": {},
   "outputs": [],
   "source": [
    "# update agents attributes and behaviors\n",
    "for agent in controller.existing_agents:\n",
    "    # set the ate flag to False to prevent the agent from spawning an offspring if they already ate before\n",
    "    agent.ate = False\n",
    "    agent.diet = [\"resources\"]\n",
    "    agent.detach_all_behaviors()\n",
    "    agent.attach_behavior(obstacle_avoidance)\n",
    "    agent.attach_behavior(foraging)\n",
    "\n",
    "# start the asexual reproduction routine and the eating mechanism\n",
    "controller.start_resources_apparition(interval=20)\n",
    "controller.start_eating_mechanism()"
   ]
  },
  {
   "cell_type": "markdown",
   "metadata": {},
   "source": [
    "Then, we will attach the reproduction routine we just created to see if it works:"
   ]
  },
  {
   "cell_type": "code",
   "execution_count": 45,
   "metadata": {},
   "outputs": [],
   "source": [
    "controller.attach_routine(asexual_reproduction, interval=10)"
   ]
  },
  {
   "cell_type": "markdown",
   "metadata": {},
   "source": [
    "Now you should have a simulation where agents spawn offsprings when they eat resources ! But the number of agents is still limited to 10, so it might be interesting to implement a mechanism to kill agents when they reach a certain age for example. "
   ]
  },
  {
   "cell_type": "code",
   "execution_count": 46,
   "metadata": {},
   "outputs": [],
   "source": [
    "controller.detach_all_routines()\n",
    "\n",
    "for agent in controller.agents:\n",
    "    agent.detach_all_behaviors(stop_motors=True)"
   ]
  },
  {
   "cell_type": "markdown",
   "metadata": {},
   "source": [
    "## 2.1 - Add sexual reproduction with a controller routine\n",
    "\n",
    "Nice, now we have agents that can spawn offsprings next to them when they eat ! We could also think of other types of reproduction, for example if two agents are close to each other and they have both eaten, they can reproduce. We can implement this with another controller routine.\n",
    "\n",
    "First, let's remove some agents in the scene in order to be able to spawn new ones (because we currently have a maximum of 10 agents in the simulation). We can remove the agents with indexes 5, 6, 7, 8 and 9 with the following commands. Because `controller.agents` is a list, we can access its last elements starting from the index 5 with the `[5:]` syntax. Then we can get the indexes of the agents and remove them with the `remove_entity` method of the controller."
   ]
  },
  {
   "cell_type": "code",
   "execution_count": 47,
   "metadata": {},
   "outputs": [
    {
     "name": "stderr",
     "output_type": "stream",
     "text": [
      "Entity 8 already removed\n"
     ]
    }
   ],
   "source": [
    "for agent in controller.agents[5:]:\n",
    "    controller.remove_entity(agent.idx)"
   ]
  },
  {
   "cell_type": "markdown",
   "metadata": {},
   "source": [
    "We also set a new flag `can_reproduce` for agents in order to tell them if they can reproduce or not. We set it to `False by default`, and will change it to `True` when they eat a resource. We will also set it to `False` when they reproduce. "
   ]
  },
  {
   "cell_type": "code",
   "execution_count": 48,
   "metadata": {},
   "outputs": [],
   "source": [
    "for agent in controller.agents:\n",
    "    agent.can_reproduce = False"
   ]
  },
  {
   "cell_type": "markdown",
   "metadata": {},
   "source": [
    "We will also modify the `example_eating_routine` function by only adding two lines of code ! They will enable the agent to reproduce when it eats a resource, and increase its size."
   ]
  },
  {
   "cell_type": "code",
   "execution_count": 49,
   "metadata": {},
   "outputs": [],
   "source": [
    "def sexual_reproduction_eating_routine(controller):\n",
    "    # iterate over all agents to see if they can eat any entity\n",
    "    for agent in controller.existing_agents:\n",
    "        # iterate over all entity types that the agent can eat (e.g \"resources\", \"agents\" ...)\n",
    "        for entity_type in agent.diet:\n",
    "            # transform this eatable entity type label into an idx (e.g \"resources\" -> 1)\n",
    "            entity_type = controller._subtype_label_to_idx[entity_type]\n",
    "            # get the indexes of all entities in the simulation that correspond to this eatable entity type (excluding the agent itself)\n",
    "            eatable_entities_idx = [ent.idx for ent in controller.all_entities if ent.subtype == entity_type and ent.idx != agent.idx]\n",
    "            # get the distances between the agent and all eatable entities\n",
    "            distances = agent.config.proximity_map_dist[eatable_entities_idx]\n",
    "            # check if the distance between the agent and the eatable entities is less than the eating range of the agent\n",
    "            in_range = distances < agent.eating_range\n",
    "            \n",
    "            # iterate over all eatable entities indexes to see if the agent can eat them\n",
    "            for arr_idx, ent_idx in enumerate(eatable_entities_idx):\n",
    "                # if the entity exists and is in range :\n",
    "                if in_range[arr_idx] and controller.all_entities[ent_idx].exists:\n",
    "                    # remove it from the simulation\n",
    "                    controller.remove_entity(ent_idx)\n",
    "                    # set the ate flag of the agent to True, and reset the time since feeding to 0\n",
    "                    agent.time_since_feeding = 0\n",
    "                    agent.ate = True\n",
    "\n",
    "                    # we only add these lines to the previous routine:\n",
    "                    agent.can_reproduce = True\n",
    "                    agent.diameter += 0.5"
   ]
  },
  {
   "cell_type": "markdown",
   "metadata": {},
   "source": [
    "We also define a new variable `reproduction_range` that will be the distance between two agents in order to be able to reproduce."
   ]
  },
  {
   "cell_type": "code",
   "execution_count": 50,
   "metadata": {},
   "outputs": [],
   "source": [
    "reproduction_range = 30."
   ]
  },
  {
   "cell_type": "markdown",
   "metadata": {},
   "source": [
    "### COMMENT : do we add some elements into subfunctions ? For example all the mechanism to spawn offsprings ? Or will this confuse students more than anything ? "
   ]
  },
  {
   "cell_type": "markdown",
   "metadata": {},
   "source": [
    "Now we can implement the reproduction routine. We will iterate over the list of existing agents, and for each agent, we will check if it can reproduce. If it is the case, we will check if it has any mate in his neighborhood to reproduce with. If it is the case, we will make them reproduce by spawning an offspring next to them. We will also set the `can_reproduce` flag of the parents to `False`."
   ]
  },
  {
   "cell_type": "code",
   "execution_count": 51,
   "metadata": {},
   "outputs": [],
   "source": [
    "def sexual_reproduction(controller):\n",
    "    for agent in controller.existing_agents:\n",
    "        if agent.can_reproduce:\n",
    "            # get the index of the other existing agents in the simulation\n",
    "            other_existing_agents_idx = [ent.idx for ent in controller.existing_agents if ent.idx != agent.idx]\n",
    "            distances = agent.config.proximity_map_dist[other_existing_agents_idx]\n",
    "            in_reproduction_range = distances < reproduction_range\n",
    "            # check if the agent has found a mate, if any other agent is in the reproduction range\n",
    "            found_mate = np.any(in_reproduction_range)\n",
    "        \n",
    "            # need to eat a ressource and find a mate to reproduce\n",
    "            if found_mate:\n",
    "                dead_agents_idx = [agent.idx for agent in controller.non_existing_agents]\n",
    "                if dead_agents_idx:\n",
    "                    # same steps as the asexual reproduction routine to spawn the offspring\n",
    "                    agent_idx = np.random.choice(dead_agents_idx)\n",
    "                    epsilon = np.random.uniform(-max_epsilon_distance, max_epsilon_distance, 2)\n",
    "                    position = [agent.x_position, agent.y_position]\n",
    "                    new_position = position + epsilon\n",
    "\n",
    "                    offspring = controller.spawn_entity(agent_idx, position=new_position) \n",
    "                    offspring.diameter = offspring_diameter\n",
    "                    offspring.attach_behavior(obstacle_avoidance)\n",
    "                    offspring.attach_behavior(foraging)\n",
    "\n",
    "                    # set the can_reproduce flag to False for the parent and the offspring\n",
    "                    offspring.can_reproduce = False\n",
    "                    agent.can_reproduce = False"
   ]
  },
  {
   "cell_type": "markdown",
   "metadata": {},
   "source": [
    "### COMMENT: do we ask them to do some questions here ? For example adding some constraints to the reproduction mechanism ?"
   ]
  },
  {
   "cell_type": "markdown",
   "metadata": {},
   "source": [
    "You could easily improve this mechanism. For example, you could add other constraints for the reproduction, such as having agents that need a certain energy level to reproduce, or that can only do it when they find a mate of a certain age or size. "
   ]
  },
  {
   "cell_type": "code",
   "execution_count": 52,
   "metadata": {},
   "outputs": [
    {
     "name": "stdout",
     "output_type": "stream",
     "text": [
      "measuring the FPS (number of steps per second) in the controller during 2 seconds ...\n"
     ]
    },
    {
     "name": "stdout",
     "output_type": "stream",
     "text": [
      "FPS: 9.50\n"
     ]
    }
   ],
   "source": [
    "controller.print_fps()"
   ]
  },
  {
   "cell_type": "markdown",
   "metadata": {},
   "source": [
    "Now, detach the current routines of the controller, and attach the ones we just created in addition with the spawning resources one."
   ]
  },
  {
   "cell_type": "code",
   "execution_count": 53,
   "metadata": {},
   "outputs": [],
   "source": [
    "controller.detach_all_routines()\n",
    "controller.attach_routine(sexual_reproduction)\n",
    "controller.attach_routine(sexual_reproduction_eating_routine)\n",
    "controller.start_resources_apparition(interval=30)"
   ]
  },
  {
   "cell_type": "markdown",
   "metadata": {},
   "source": [
    "Now, agents that will eat resources will be able to reproduce with a mate, and will do so if they ecounter one in their reproduction range. In order to promote the collection of resources to the agents, attach `obstacle_avoidance` and `foraging` behaviors. Then to make them attractive to each other, attach the `aggresion` behavior.  "
   ]
  },
  {
   "cell_type": "code",
   "execution_count": 54,
   "metadata": {},
   "outputs": [],
   "source": [
    "for agent in controller.agents:\n",
    "    agent.detach_all_behaviors(stop_motors=True)\n",
    "    agent.attach_behavior(obstacle_avoidance)\n",
    "    # add aggression behavior so agents go towards each other\n",
    "    agent.attach_behavior(aggression)\n",
    "    agent.attach_behavior(foraging)"
   ]
  },
  {
   "cell_type": "markdown",
   "metadata": {},
   "source": [
    "You should have a simulation where agents can reproduce when they are close to each other and have eaten !"
   ]
  },
  {
   "cell_type": "code",
   "execution_count": 19,
   "metadata": {},
   "outputs": [
    {
     "name": "stdout",
     "output_type": "stream",
     "text": [
      "Simulator is already stopped\n"
     ]
    },
    {
     "name": "stderr",
     "output_type": "stream",
     "text": [
      "your 131072x1 screen size is bogus. expect trouble\n",
      "your 131072x1 screen size is bogus. expect trouble\n"
     ]
    },
    {
     "data": {
      "text/plain": [
       "False"
      ]
     },
     "execution_count": 19,
     "metadata": {},
     "output_type": "execute_result"
    }
   ],
   "source": [
    "controller.stop()\n",
    "stop_server_and_interface(safe_mode=False)"
   ]
  }
 ],
 "metadata": {
  "kernelspec": {
   "display_name": "venv",
   "language": "python",
   "name": "python3"
  },
  "language_info": {
   "codemirror_mode": {
    "name": "ipython",
    "version": 3
   },
   "file_extension": ".py",
   "mimetype": "text/x-python",
   "name": "python",
   "nbconvert_exporter": "python",
   "pygments_lexer": "ipython3",
   "version": "3.10.12"
  }
 },
 "nbformat": 4,
 "nbformat_minor": 1
}
